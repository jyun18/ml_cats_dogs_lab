{
 "cells": [
  {
   "cell_type": "markdown",
   "metadata": {},
   "source": [
    "# Logistic Regression: cat or dog?\n",
    "In this lab you will teach computer to distinguish between images of cats and dogs using Logistic Regression. \n",
    "The input dataset consists of 10,000 images manually labeled as ''cats'' and ''dogs''. The original dataset was downloaded from kaggle. \n",
    "\n",
    "Download the entire [folder](https://drive.google.com/file/d/1V4pAtGy7VOJQlxM3g8gyDee8h5k7VTSF/view?usp=sharing)  with images and unzip it into your local directory containing input files for this course. Then set the path below to point to this directory."
   ]
  },
  {
   "cell_type": "code",
   "execution_count": 27,
   "metadata": {},
   "outputs": [],
   "source": [
    "data_dir = \"../datasets/cat_dog_data\""
   ]
  },
  {
   "cell_type": "markdown",
   "metadata": {},
   "source": [
    "## 1. Building the model"
   ]
  },
  {
   "cell_type": "markdown",
   "metadata": {},
   "source": [
    "### 1.1. Import all the required libraries. \n",
    "If you get an import error on `keras`, run one of the next 2 cells to install `keras` in the current Jupyter kernel, and then rerun the import cell. "
   ]
  },
  {
   "cell_type": "code",
   "execution_count": 28,
   "metadata": {},
   "outputs": [],
   "source": [
    "import numpy as np\n",
    "import matplotlib.pyplot as plt\n",
    "from warnings import simplefilter\n",
    "# ignore all future warnings\n",
    "simplefilter(action='ignore', category=FutureWarning)\n",
    "\n",
    "from PIL import Image\n",
    "from keras import preprocessing"
   ]
  },
  {
   "cell_type": "code",
   "execution_count": null,
   "metadata": {
    "scrolled": true
   },
   "outputs": [],
   "source": [
    "# Install a conda package (with all its dependencies) in the current Jupyter kernel\n",
    "# this will work if you have a clean installation of anaconda\n",
    "import sys\n",
    "\n",
    "!conda install --yes --prefix {sys.prefix} keras"
   ]
  },
  {
   "cell_type": "code",
   "execution_count": 2,
   "metadata": {},
   "outputs": [
    {
     "name": "stdout",
     "output_type": "stream",
     "text": [
      "Collecting tensorflow\n",
      "  Downloading tensorflow-2.3.0-cp38-cp38-macosx_10_11_x86_64.whl (165.2 MB)\n",
      "\u001b[K     |████████████████████████████████| 165.2 MB 240 kB/s eta 0:00:01\n",
      "\u001b[?25hCollecting keras-preprocessing<1.2,>=1.1.1\n",
      "  Using cached Keras_Preprocessing-1.1.2-py2.py3-none-any.whl (42 kB)\n",
      "Requirement already satisfied, skipping upgrade: numpy<1.19.0,>=1.16.0 in /opt/anaconda3/lib/python3.8/site-packages (from tensorflow) (1.18.5)\n",
      "Collecting opt-einsum>=2.3.2\n",
      "  Using cached opt_einsum-3.3.0-py3-none-any.whl (65 kB)\n",
      "Collecting protobuf>=3.9.2\n",
      "  Downloading protobuf-3.13.0-cp38-cp38-macosx_10_9_x86_64.whl (1.3 MB)\n",
      "\u001b[K     |████████████████████████████████| 1.3 MB 1.2 MB/s eta 0:00:01\n",
      "\u001b[?25hCollecting astunparse==1.6.3\n",
      "  Using cached astunparse-1.6.3-py2.py3-none-any.whl (12 kB)\n",
      "Requirement already satisfied, skipping upgrade: wheel>=0.26 in /opt/anaconda3/lib/python3.8/site-packages (from tensorflow) (0.34.2)\n",
      "Collecting grpcio>=1.8.6\n",
      "  Downloading grpcio-1.32.0-cp38-cp38-macosx_10_9_x86_64.whl (3.3 MB)\n",
      "\u001b[K     |████████████████████████████████| 3.3 MB 363 kB/s eta 0:00:01\n",
      "\u001b[?25hCollecting google-pasta>=0.1.8\n",
      "  Using cached google_pasta-0.2.0-py3-none-any.whl (57 kB)\n",
      "Requirement already satisfied, skipping upgrade: wrapt>=1.11.1 in /opt/anaconda3/lib/python3.8/site-packages (from tensorflow) (1.11.2)\n",
      "Collecting scipy==1.4.1\n",
      "  Downloading scipy-1.4.1-cp38-cp38-macosx_10_9_x86_64.whl (28.8 MB)\n",
      "\u001b[K     |████████████████████████████████| 28.8 MB 608 kB/s eta 0:00:01\n",
      "\u001b[?25hRequirement already satisfied, skipping upgrade: six>=1.12.0 in /opt/anaconda3/lib/python3.8/site-packages (from tensorflow) (1.15.0)\n",
      "Collecting gast==0.3.3\n",
      "  Using cached gast-0.3.3-py2.py3-none-any.whl (9.7 kB)\n",
      "Collecting tensorboard<3,>=2.3.0\n",
      "  Using cached tensorboard-2.3.0-py3-none-any.whl (6.8 MB)\n",
      "Collecting absl-py>=0.7.0\n",
      "  Using cached absl_py-0.10.0-py3-none-any.whl (127 kB)\n",
      "Collecting termcolor>=1.1.0\n",
      "  Using cached termcolor-1.1.0.tar.gz (3.9 kB)\n",
      "Requirement already satisfied, skipping upgrade: h5py<2.11.0,>=2.10.0 in /opt/anaconda3/lib/python3.8/site-packages (from tensorflow) (2.10.0)\n",
      "Collecting tensorflow-estimator<2.4.0,>=2.3.0\n",
      "  Using cached tensorflow_estimator-2.3.0-py2.py3-none-any.whl (459 kB)\n",
      "Requirement already satisfied, skipping upgrade: setuptools in /opt/anaconda3/lib/python3.8/site-packages (from protobuf>=3.9.2->tensorflow) (49.2.0.post20200714)\n",
      "Collecting tensorboard-plugin-wit>=1.6.0\n",
      "  Using cached tensorboard_plugin_wit-1.7.0-py3-none-any.whl (779 kB)\n",
      "Collecting google-auth-oauthlib<0.5,>=0.4.1\n",
      "  Using cached google_auth_oauthlib-0.4.1-py2.py3-none-any.whl (18 kB)\n",
      "Requirement already satisfied, skipping upgrade: requests<3,>=2.21.0 in /opt/anaconda3/lib/python3.8/site-packages (from tensorboard<3,>=2.3.0->tensorflow) (2.24.0)\n",
      "Collecting markdown>=2.6.8\n",
      "  Using cached Markdown-3.2.2-py3-none-any.whl (88 kB)\n",
      "Collecting google-auth<2,>=1.6.3\n",
      "  Using cached google_auth-1.21.2-py2.py3-none-any.whl (93 kB)\n",
      "Requirement already satisfied, skipping upgrade: werkzeug>=0.11.15 in /opt/anaconda3/lib/python3.8/site-packages (from tensorboard<3,>=2.3.0->tensorflow) (1.0.1)\n",
      "Collecting requests-oauthlib>=0.7.0\n",
      "  Using cached requests_oauthlib-1.3.0-py2.py3-none-any.whl (23 kB)\n",
      "Requirement already satisfied, skipping upgrade: idna<3,>=2.5 in /opt/anaconda3/lib/python3.8/site-packages (from requests<3,>=2.21.0->tensorboard<3,>=2.3.0->tensorflow) (2.10)\n",
      "Requirement already satisfied, skipping upgrade: chardet<4,>=3.0.2 in /opt/anaconda3/lib/python3.8/site-packages (from requests<3,>=2.21.0->tensorboard<3,>=2.3.0->tensorflow) (3.0.4)\n",
      "Requirement already satisfied, skipping upgrade: urllib3!=1.25.0,!=1.25.1,<1.26,>=1.21.1 in /opt/anaconda3/lib/python3.8/site-packages (from requests<3,>=2.21.0->tensorboard<3,>=2.3.0->tensorflow) (1.25.9)\n",
      "Requirement already satisfied, skipping upgrade: certifi>=2017.4.17 in /opt/anaconda3/lib/python3.8/site-packages (from requests<3,>=2.21.0->tensorboard<3,>=2.3.0->tensorflow) (2020.6.20)\n",
      "Collecting rsa<5,>=3.1.4; python_version >= \"3.5\"\n",
      "  Using cached rsa-4.6-py3-none-any.whl (47 kB)\n",
      "Collecting pyasn1-modules>=0.2.1\n",
      "  Using cached pyasn1_modules-0.2.8-py2.py3-none-any.whl (155 kB)\n",
      "Collecting cachetools<5.0,>=2.0.0\n",
      "  Using cached cachetools-4.1.1-py3-none-any.whl (10 kB)\n",
      "Collecting oauthlib>=3.0.0\n",
      "  Using cached oauthlib-3.1.0-py2.py3-none-any.whl (147 kB)\n",
      "Collecting pyasn1>=0.1.3\n",
      "  Using cached pyasn1-0.4.8-py2.py3-none-any.whl (77 kB)\n",
      "Building wheels for collected packages: termcolor\n",
      "  Building wheel for termcolor (setup.py) ... \u001b[?25ldone\n",
      "\u001b[?25h  Created wheel for termcolor: filename=termcolor-1.1.0-py3-none-any.whl size=4830 sha256=330553338c82b2218f69c0926c49d7fb2ee0d3b4de8ae9c9f331467442411da8\n",
      "  Stored in directory: /Users/t_zhouy/Library/Caches/pip/wheels/a0/16/9c/5473df82468f958445479c59e784896fa24f4a5fc024b0f501\n",
      "Successfully built termcolor\n",
      "Installing collected packages: keras-preprocessing, opt-einsum, protobuf, astunparse, grpcio, google-pasta, scipy, gast, tensorboard-plugin-wit, absl-py, oauthlib, requests-oauthlib, pyasn1, rsa, pyasn1-modules, cachetools, google-auth, google-auth-oauthlib, markdown, tensorboard, termcolor, tensorflow-estimator, tensorflow\n",
      "  Attempting uninstall: scipy\n",
      "    Found existing installation: scipy 1.5.0\n",
      "    Uninstalling scipy-1.5.0:\n",
      "      Successfully uninstalled scipy-1.5.0\n",
      "Successfully installed absl-py-0.10.0 astunparse-1.6.3 cachetools-4.1.1 gast-0.3.3 google-auth-1.21.2 google-auth-oauthlib-0.4.1 google-pasta-0.2.0 grpcio-1.32.0 keras-preprocessing-1.1.2 markdown-3.2.2 oauthlib-3.1.0 opt-einsum-3.3.0 protobuf-3.13.0 pyasn1-0.4.8 pyasn1-modules-0.2.8 requests-oauthlib-1.3.0 rsa-4.6 scipy-1.4.1 tensorboard-2.3.0 tensorboard-plugin-wit-1.7.0 tensorflow-2.3.0 tensorflow-estimator-2.3.0 termcolor-1.1.0\n",
      "Collecting keras\n",
      "  Using cached Keras-2.4.3-py2.py3-none-any.whl (36 kB)\n",
      "Requirement already satisfied, skipping upgrade: scipy>=0.14 in /opt/anaconda3/lib/python3.8/site-packages (from keras) (1.4.1)\n",
      "Requirement already satisfied, skipping upgrade: pyyaml in /opt/anaconda3/lib/python3.8/site-packages (from keras) (5.3.1)\n",
      "Requirement already satisfied, skipping upgrade: h5py in /opt/anaconda3/lib/python3.8/site-packages (from keras) (2.10.0)\n",
      "Requirement already satisfied, skipping upgrade: numpy>=1.9.1 in /opt/anaconda3/lib/python3.8/site-packages (from keras) (1.18.5)\n",
      "Requirement already satisfied, skipping upgrade: six in /opt/anaconda3/lib/python3.8/site-packages (from h5py->keras) (1.15.0)\n",
      "Installing collected packages: keras\n",
      "Successfully installed keras-2.4.3\n"
     ]
    }
   ],
   "source": [
    "# Alternatively - install keras package and its dependencies using pip\n",
    "import sys\n",
    "!pip3 install --upgrade tensorflow\n",
    "!python3 -m pip install --upgrade keras"
   ]
  },
  {
   "cell_type": "markdown",
   "metadata": {},
   "source": [
    "### 1.2. Load images\n",
    "First check if the path to the directory is correct:"
   ]
  },
  {
   "cell_type": "code",
   "execution_count": 29,
   "metadata": {},
   "outputs": [
    {
     "name": "stdout",
     "output_type": "stream",
     "text": [
      "['.DS_Store', 'new_set', 'test_set', 'training_set']\n"
     ]
    }
   ],
   "source": [
    "import os\n",
    "cwd = os.getcwd()\n",
    "os.chdir(cwd)\n",
    "print(os.listdir(data_dir))"
   ]
  },
  {
   "cell_type": "markdown",
   "metadata": {},
   "source": [
    "Next create two lists and fill them with the paths to the corresponding images. "
   ]
  },
  {
   "cell_type": "code",
   "execution_count": 30,
   "metadata": {},
   "outputs": [
    {
     "data": {
      "text/plain": [
       "(4000, 4000)"
      ]
     },
     "execution_count": 30,
     "metadata": {},
     "output_type": "execute_result"
    }
   ],
   "source": [
    "train_cats_files = []\n",
    "train_path_cats = data_dir +\"/training_set/cats/\"\n",
    "for path in os.listdir(train_path_cats):\n",
    "    if '.jpg' in path:\n",
    "        train_cats_files.append(os.path.join(train_path_cats, path))\n",
    "        \n",
    "train_dogs_files = []\n",
    "train_path_dogs = data_dir +\"/training_set/dogs/\"\n",
    "for path in os.listdir(train_path_dogs):\n",
    "    if '.jpg' in path:\n",
    "        train_dogs_files.append(os.path.join(train_path_dogs, path))\n",
    "        \n",
    "len(train_cats_files), len(train_dogs_files)"
   ]
  },
  {
   "cell_type": "markdown",
   "metadata": {},
   "source": [
    "Now we have the paths to each image in the training set.\n",
    "We need to convert each image into a numpy array. For this we use the preprocessing module in the `keras` library. "
   ]
  },
  {
   "cell_type": "code",
   "execution_count": 31,
   "metadata": {},
   "outputs": [],
   "source": [
    "k = 200\n",
    "sample_dog_file = train_dogs_files[k]\n",
    "img = preprocessing.image.load_img(sample_dog_file, target_size=(64, 64))\n",
    "img_array = preprocessing.image.img_to_array(img)\n"
   ]
  },
  {
   "cell_type": "code",
   "execution_count": 32,
   "metadata": {},
   "outputs": [
    {
     "data": {
      "text/plain": [
       "<matplotlib.image.AxesImage at 0x14da1abe0>"
      ]
     },
     "execution_count": 32,
     "metadata": {},
     "output_type": "execute_result"
    },
    {
     "data": {
      "image/png": "[encoded data removed]",
      "text/plain": [
       "<Figure size 432x288 with 1 Axes>"
      ]
     },
     "metadata": {
      "needs_background": "light"
     },
     "output_type": "display_data"
    }
   ],
   "source": [
    "plt.imshow(np.uint8(img_array))"
   ]
  },
  {
   "cell_type": "code",
   "execution_count": 33,
   "metadata": {},
   "outputs": [
    {
     "data": {
      "text/plain": [
       "(64, 64, 3)"
      ]
     },
     "execution_count": 33,
     "metadata": {},
     "output_type": "execute_result"
    }
   ],
   "source": [
    "img_array.shape\n",
    "# print(img_array)"
   ]
  },
  {
   "cell_type": "markdown",
   "metadata": {},
   "source": [
    "Each image is represented as a $64*64$ matrix of pixels, and for each pixel we have values of Red, Green, and Blue (RGB). "
   ]
  },
  {
   "cell_type": "markdown",
   "metadata": {},
   "source": [
    "### 1.3. Images to numpy arrays\n",
    "Now we create training sets for cats and for dogs and then concatenate 2 sets into a single `X_train` dataset of features."
   ]
  },
  {
   "cell_type": "code",
   "execution_count": 34,
   "metadata": {},
   "outputs": [
    {
     "data": {
      "text/plain": [
       "(8000, 32, 32, 3)"
      ]
     },
     "execution_count": 34,
     "metadata": {},
     "output_type": "execute_result"
    }
   ],
   "source": [
    "# image dimensions: using 32x32 pixels just for speed\n",
    "d = 32\n",
    "X_train_orig = np.zeros((8000, d, d, 3), dtype='float32')\n",
    "for i in range(4000):    \n",
    "    path = train_cats_files[i]\n",
    "    img = preprocessing.image.load_img(path, target_size=(d, d))\n",
    "    X_train_orig[i] = preprocessing.image.img_to_array(img)\n",
    "\n",
    "for i in range(4000,8000):    \n",
    "    path = train_dogs_files[i-4000]\n",
    "    img = preprocessing.image.load_img(path, target_size=(d, d))\n",
    "    X_train_orig[i] = preprocessing.image.img_to_array(img)    \n",
    "\n",
    "X_train_orig.shape"
   ]
  },
  {
   "cell_type": "markdown",
   "metadata": {},
   "source": [
    "### 1.4. Flatten 3D image arrays\n",
    "Our model requires each object to be a 1D vector of features -\n",
    "we need to flatten our 3D image arrays.\n",
    "\n",
    "After reshaping we will have,\n",
    "$d*d*3$ features as a single array for each picture in the training set (8000 pics),"
   ]
  },
  {
   "cell_type": "code",
   "execution_count": 35,
   "metadata": {},
   "outputs": [
    {
     "name": "stdout",
     "output_type": "stream",
     "text": [
      "[33. 37. 40. ... 50. 35. 30.]\n"
     ]
    },
    {
     "data": {
      "text/plain": [
       "(8000, 3072)"
      ]
     },
     "execution_count": 35,
     "metadata": {},
     "output_type": "execute_result"
    }
   ],
   "source": [
    "X_train = X_train_orig.reshape(8000,-1)\n",
    "print(X_train[0])\n",
    "X_train.shape"
   ]
  },
  {
   "cell_type": "markdown",
   "metadata": {},
   "source": [
    "### 1.5. Create class labels\n",
    "Now we need to create the corresponding class label vectors. We will mark the cats as class 1, and the dogs as class 0 (not cats)."
   ]
  },
  {
   "cell_type": "code",
   "execution_count": 36,
   "metadata": {},
   "outputs": [
    {
     "name": "stdout",
     "output_type": "stream",
     "text": [
      "At position 3 should be a cat: 1.0\n",
      "At position 4002 should be a dog: 0.0\n"
     ]
    },
    {
     "data": {
      "text/plain": [
       "(8000,)"
      ]
     },
     "execution_count": 36,
     "metadata": {},
     "output_type": "execute_result"
    }
   ],
   "source": [
    "Y_train_orig = np.ones((4000,)) # 1 - 4000 are cat pictures so our label is 1\n",
    "Y_train_orig = np.concatenate((Y_train_orig, np.zeros((4000,)))) # 4000 - 8000 are dog pictures so our label is 0\n",
    "Y_train = Y_train_orig.reshape(-1)\n",
    "print(\"At position 3 should be a cat:\", Y_train[3])\n",
    "print(\"At position 4002 should be a dog:\", Y_train[4002])\n",
    "Y_train.shape"
   ]
  },
  {
   "cell_type": "markdown",
   "metadata": {},
   "source": [
    "### 1.6. Build the model\n",
    "We are using the `LogisticRegression` class from `sklearn` package.\n",
    "<ul>\n",
    "<li>The <code>random_state</code> parameter tells to shuffle the samples, so the classifier does not see all the cats first, and then the dogs. Specifying  the `random_state` value ensures that the algorithm starts from the same random seed and produces reproducible results.</li> \n",
    "<li>The <code>max_iter</code> parameter tells algorithm to stop even if it did not reach the thrreshold for convergence yet.</li>\n",
    "    <li>In the <code>solver</code> parameter you can specify the algorithm which you want to use.</li>\n",
    "</ul>\n",
    "\n",
    "You can read more about the parameters of  `LogisticRegression` model [here](https://scikit-learn.org/stable/modules/generated/sklearn.linear_model.LogisticRegression.html)."
   ]
  },
  {
   "cell_type": "code",
   "execution_count": 55,
   "metadata": {},
   "outputs": [
    {
     "name": "stderr",
     "output_type": "stream",
     "text": [
      "/Users/JustinY./opt/anaconda3/lib/python3.8/site-packages/sklearn/linear_model/_sag.py:329: ConvergenceWarning: The max_iter was reached which means the coef_ did not converge\n",
      "  warnings.warn(\"The max_iter was reached which means \"\n"
     ]
    },
    {
     "data": {
      "text/plain": [
       "LogisticRegression(max_iter=500, random_state=20, solver='saga')"
      ]
     },
     "execution_count": 55,
     "metadata": {},
     "output_type": "execute_result"
    }
   ],
   "source": [
    "from sklearn import linear_model\n",
    "\n",
    "algorithms = ['newton-cg', 'lbfgs', 'liblinear', 'sag', 'saga'] # default='lbfgs'\n",
    "logreg = linear_model.LogisticRegression(solver=algorithms[4], random_state = 20, max_iter = 500)\n",
    "logreg.fit (X_train, Y_train)"
   ]
  },
  {
   "cell_type": "markdown",
   "metadata": {},
   "source": [
    "The score of the logistic regression classifier is simply a percentage of correctly predicted data points. This measure is called the **accuracy** of the model."
   ]
  },
  {
   "cell_type": "code",
   "execution_count": 56,
   "metadata": {},
   "outputs": [
    {
     "name": "stdout",
     "output_type": "stream",
     "text": [
      "train accuracy: 0.75475 \n"
     ]
    }
   ],
   "source": [
    "acc_train = logreg.score(X_train, Y_train)\n",
    "print(\"train accuracy: {} \".format(acc_train))"
   ]
  },
  {
   "cell_type": "markdown",
   "metadata": {},
   "source": [
    "## 2. Lab Task 1: Model evaluation  \\[60%\\]\n",
    "Obviously, we are much more interested to see how our model performs on the test data. To create a test set, repeat steps 1.2-1.5 for the test_set folder."
   ]
  },
  {
   "cell_type": "markdown",
   "metadata": {},
   "source": [
    "### 2.1. Load images"
   ]
  },
  {
   "cell_type": "code",
   "execution_count": 57,
   "metadata": {},
   "outputs": [
    {
     "data": {
      "text/plain": [
       "(1000, 1000)"
      ]
     },
     "execution_count": 57,
     "metadata": {},
     "output_type": "execute_result"
    }
   ],
   "source": [
    "test_cats_files = []\n",
    "test_path_cats = data_dir +\"/test_set/cats/\"\n",
    "for path in os.listdir(test_path_cats):\n",
    "    if '.jpg' in path:\n",
    "        test_cats_files.append(os.path.join(test_path_cats, path))\n",
    "        \n",
    "test_dogs_files = []\n",
    "test_path_dogs = data_dir +\"/test_set/dogs/\"\n",
    "for path in os.listdir(test_path_dogs):\n",
    "    if '.jpg' in path:\n",
    "        test_dogs_files.append(os.path.join(test_path_dogs, path))\n",
    "\n",
    "len(test_cats_files), len(test_dogs_files)"
   ]
  },
  {
   "cell_type": "markdown",
   "metadata": {},
   "source": [
    "### 2.2. Images to numpy arrays"
   ]
  },
  {
   "cell_type": "code",
   "execution_count": 58,
   "metadata": {},
   "outputs": [
    {
     "data": {
      "text/plain": [
       "(2000, 32, 32, 3)"
      ]
     },
     "execution_count": 58,
     "metadata": {},
     "output_type": "execute_result"
    }
   ],
   "source": [
    "X_test_orig = np.zeros((2000, d, d, 3), dtype='float32')  \n",
    "for i in range(1000):    \n",
    "    path = test_cats_files[i]\n",
    "    img = preprocessing.image.load_img(path, target_size=(d, d))\n",
    "    X_test_orig[i] = preprocessing.image.img_to_array(img)\n",
    "\n",
    "for i in range(1000,2000):    \n",
    "    path = test_dogs_files[i-1000]\n",
    "    img = preprocessing.image.load_img(path, target_size=(d, d))\n",
    "    X_test_orig[i] = preprocessing.image.img_to_array(img)    \n",
    "\n",
    "X_test_orig.shape"
   ]
  },
  {
   "cell_type": "markdown",
   "metadata": {},
   "source": [
    "### 2.3. Flatten 3D image arrays"
   ]
  },
  {
   "cell_type": "code",
   "execution_count": 59,
   "metadata": {},
   "outputs": [
    {
     "name": "stdout",
     "output_type": "stream",
     "text": [
      "[240. 249. 244. ... 185. 194. 201.]\n"
     ]
    },
    {
     "data": {
      "text/plain": [
       "(2000, 3072)"
      ]
     },
     "execution_count": 59,
     "metadata": {},
     "output_type": "execute_result"
    }
   ],
   "source": [
    "X_test = X_test_orig.reshape(2000,-1)\n",
    "print(X_test[0])\n",
    "X_test.shape"
   ]
  },
  {
   "cell_type": "markdown",
   "metadata": {},
   "source": [
    "### 2.4. Create class labels"
   ]
  },
  {
   "cell_type": "code",
   "execution_count": 60,
   "metadata": {},
   "outputs": [
    {
     "name": "stdout",
     "output_type": "stream",
     "text": [
      "At position 3 should be a cat: 1.0\n",
      "At position 1002 should be a dog: 0.0\n"
     ]
    },
    {
     "data": {
      "text/plain": [
       "(2000,)"
      ]
     },
     "execution_count": 60,
     "metadata": {},
     "output_type": "execute_result"
    }
   ],
   "source": [
    "Y_test = np.ones((1000,))\n",
    "Y_test = np.concatenate((Y_test, np.zeros((1000,))))\n",
    "Y_test = Y_test.reshape(-1)\n",
    "print(\"At position 3 should be a cat:\", Y_test[3])\n",
    "print(\"At position 1002 should be a dog:\", Y_test[1002])\n",
    "\n",
    "Y_test.shape"
   ]
  },
  {
   "cell_type": "markdown",
   "metadata": {},
   "source": [
    "### 2.5. Accuracy for the test set"
   ]
  },
  {
   "cell_type": "code",
   "execution_count": 61,
   "metadata": {},
   "outputs": [
    {
     "name": "stdout",
     "output_type": "stream",
     "text": [
      "test accuracy: 0.6 \n"
     ]
    }
   ],
   "source": [
    "acc_test = logreg.score(X_test, Y_test)\n",
    "print(\"test accuracy: {} \".format(acc_test))"
   ]
  },
  {
   "cell_type": "markdown",
   "metadata": {},
   "source": [
    "### 2.6. Improve the model\n",
    "If the predictive power of the classifier is too low, try to improve the model. Below are some suggestions for improving it. Rerun the model after each modification and see if the accuracy of prediction is improved. \n",
    "\n",
    "Carefully record the results of your experiments in a separate markdown cell.\n",
    "\n",
    "<ol>\n",
    "    <li>Increase value of $d$ (image dimensions) to 64.</li>\n",
    "    <li>Normalize values in pixel arrays by dividing each value by 255 (max RGB value).</li>\n",
    "    <li>Use a different model-fitting algorithm.</li>\n",
    "    <li>Modify default parameters of <code>LogisticRegression</code> class.</li>\n",
    "    <li>$\\ldots$</li>\n",
    "</ol>\n",
    "\n",
    "You can stop once you have a good accuracy for the test set (no less than 0.60)."
   ]
  },
  {
   "cell_type": "markdown",
   "metadata": {},
   "source": [
    "### Stuff I did to improve my model:\n",
    "###### The original accuracy of my model is 0.5745\n",
    "\n",
    "<ol>\n",
    "    <li> After increasing the value of d to 64, the accuracy went down to 0.54, so I discarded this change.</li>\n",
    "    <li> After trying a couple model-fitting algorithms, and going with 'saga', and decreasing the max_iter to 500, the accuracy went up to 0.5995 </li>\n",
    "    <li> After changing random_state to 20, the accuracy went up to 0.6</li>\n",
    "</ol>"
   ]
  },
  {
   "cell_type": "markdown",
   "metadata": {},
   "source": [
    "### 2.7. Predict random cats\n",
    "Find a random image of a cat and another of a dog, and test your model to predict it. Follow all the steps to convert two images into an array of features and then call:"
   ]
  },
  {
   "cell_type": "code",
   "execution_count": 64,
   "metadata": {},
   "outputs": [
    {
     "name": "stdout",
     "output_type": "stream",
     "text": [
      "['../datasets/cat_dog_data/new_set/cat.jpg', '../datasets/cat_dog_data/new_set/dog.jpg']\n",
      "[0. 0.]\n",
      "The model predicted incorrectly. It predicted both images as dogs.\n"
     ]
    }
   ],
   "source": [
    "new_files = []\n",
    "new_files.append(data_dir + \"/new_set/cat.jpg\")\n",
    "new_files.append(data_dir + \"/new_set/dog.jpg\")\n",
    "print(new_files)\n",
    "\n",
    "d = 32\n",
    "X_new = np.zeros((2, d, d, 3), dtype='float32')\n",
    "for i in range(2):\n",
    "    path = new_files[i]\n",
    "    img = preprocessing.image.load_img(path, target_size=(d, d))\n",
    "    X_new[i] = preprocessing.image.img_to_array(img)\n",
    "    \n",
    "X_new = X_new.reshape(2,-1)\n",
    "\n",
    "Y_new = logreg.predict(X_new)\n",
    "print(Y_new)\n",
    "print(\"The model predicted incorrectly. It predicted both images as dogs.\")"
   ]
  },
  {
   "cell_type": "markdown",
   "metadata": {},
   "source": [
    "Submit your images with your lab, and specify which prediction did you obtain for each image."
   ]
  },
  {
   "cell_type": "markdown",
   "metadata": {},
   "source": [
    "### 2.8. Save model to file\n",
    "When you are happy with the performance of your model and want to use it to identify cats in the future, save it to file using pickle. An example how to save the model and then reload it can be found [here](\n",
    "https://machinelearningmastery.com/save-load-machine-learning-models-python-scikit-learn/).\n",
    "\n",
    "Test that you can save the model and then load it in the cell below. Put your saved model to your google drive folder and provide the link to it in your notebook submission."
   ]
  },
  {
   "cell_type": "code",
   "execution_count": 65,
   "metadata": {},
   "outputs": [
    {
     "name": "stdout",
     "output_type": "stream",
     "text": [
      "0.6\n"
     ]
    }
   ],
   "source": [
    "import pickle\n",
    "filename = \"cat_dog_model.sav\"\n",
    "pickle.dump(logreg, open(filename, 'wb'))\n",
    "\n",
    "loaded_model = pickle.load(open(filename, 'rb'))\n",
    "result = loaded_model.score(X_test, Y_test)\n",
    "print(result)"
   ]
  },
  {
   "cell_type": "markdown",
   "metadata": {},
   "source": [
    "# 3. Lab Task 2: Support Vector Machines \\[40%\\]\n",
    "First, watch the [video](https://www.youtube.com/watch?v=efR1C6CvhmE&vl=en) about another classifier: Support Vector Machine (SVM).\n",
    "\n",
    "Next, perform the cat/dog image classification learning using SVM.\n",
    "Learn about the parameters of the sklearn SVC class [here](https://scikit-learn.org/stable/modules/generated/sklearn.svm.SVC.html)."
   ]
  },
  {
   "cell_type": "code",
   "execution_count": 68,
   "metadata": {},
   "outputs": [
    {
     "data": {
      "text/plain": [
       "0.671"
      ]
     },
     "execution_count": 68,
     "metadata": {},
     "output_type": "execute_result"
    }
   ],
   "source": [
    "from sklearn.svm import SVC # \"Support vector classifier\"\n",
    "svm = SVC(kernel='rbf', C=1E3)\n",
    "svm.fit(X_train, Y_train)\n",
    "svm.score(X_test, Y_test)\n"
   ]
  },
  {
   "cell_type": "markdown",
   "metadata": {},
   "source": [
    "SVM is a more powerful classifier than logistic regression. Try to achieve a better accuracy by playing with the algorithm parameters. Report the final values in a new markdown cell below."
   ]
  },
  {
   "cell_type": "markdown",
   "metadata": {},
   "source": [
    "### Results of image classification using SVM\n"
   ]
  },
  {
   "cell_type": "markdown",
   "metadata": {},
   "source": [
    "Finally, in a newly added markdown cell briefly explain how do you understand the difference between the logistic regression and SVM learning algorithms. Pay a special attention to how these algorithms treat a decision boundary. "
   ]
  },
  {
   "cell_type": "markdown",
   "metadata": {},
   "source": [
    "<p>The method of logistic regression and SVM is very different. In logistic regression, the decision boundary is characterized by the probability of some data point being classified as a class to be 0.5 (50%). At the decision boundary, there is an equal chance for the datapoint to be classified as either class. In SVM, the decision boundary is characterized by the line (or hyperplane) that maximizes the margins (which is the distance between the line itself and the 'support vectors'). Support vectors are essentially the datapoints that are closest to the decision boundary (and the points to which the margin is measured from). Especially for a linearly separable dataset, SVM performs really well since the optimal margins are very easily found.  </p>"
   ]
  },
  {
   "cell_type": "markdown",
   "metadata": {},
   "source": [
    "Copyright &copy; 2020 Marina Barsky. All rights reserved."
   ]
  }
 ],
 "metadata": {
  "kernelspec": {
   "display_name": "Python 3",
   "language": "python",
   "name": "python3"
  },
  "language_info": {
   "codemirror_mode": {
    "name": "ipython",
    "version": 3
   },
   "file_extension": ".py",
   "mimetype": "text/x-python",
   "name": "python",
   "nbconvert_exporter": "python",
   "pygments_lexer": "ipython3",
   "version": "3.8.3"
  }
 },
 "nbformat": 4,
 "nbformat_minor": 4
}
